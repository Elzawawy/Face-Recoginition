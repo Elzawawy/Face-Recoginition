{
 "cells": [
  {
   "cell_type": "markdown",
   "metadata": {
    "colab_type": "text",
    "id": "42K8nq--G9ru"
   },
   "source": [
    "# Face Recognition Assignment #1"
   ]
  },
  {
   "cell_type": "markdown",
   "metadata": {
    "colab_type": "text",
    "id": "jHK902g2G9r2"
   },
   "source": [
    "## Problem Statement "
   ]
  },
  {
   "cell_type": "markdown",
   "metadata": {
    "colab_type": "text",
    "id": "xHijr6p-G9r5"
   },
   "source": [
    "We intend to perform face recognition. Face recognition means that for a given image\n",
    "you can tell the subject id. Our database of subject is very simple. It has 40 subjects.\n",
    "Below we will show the needed steps to achieve the goal of the assignment."
   ]
  },
  {
   "cell_type": "markdown",
   "metadata": {
    "colab_type": "text",
    "id": "KOVFqGABG9sA"
   },
   "source": [
    "### Step 1: Download the dataset and understand the format "
   ]
  },
  {
   "cell_type": "code",
   "execution_count": 0,
   "metadata": {
    "colab": {},
    "colab_type": "code",
    "id": "EiCtAN8lG9sD"
   },
   "outputs": [],
   "source": [
    "from os import listdir\n",
    "from PIL import Image as PImage\n",
    "\n",
    "def loadImages(path):\n",
    "    # return array of images\n",
    "    foldersList = listdir(path)\n",
    "    loadedImages = []\n",
    "    for folder in foldersList :\n",
    "        imagesList = listdir(path+folder)\n",
    "        for image in imagesList:\n",
    "            img = PImage.open(path +folder+'/'+ image)\n",
    "            loadedImages.append(img)\n",
    "    return loadedImages"
   ]
  },
  {
   "cell_type": "code",
   "execution_count": 3,
   "metadata": {
    "colab": {
     "base_uri": "https://localhost:8080/",
     "height": 124
    },
    "colab_type": "code",
    "id": "SoGukhNlJqMU",
    "outputId": "7a130bb1-10e7-4084-c397-a1a765d491b2"
   },
   "outputs": [
    {
     "name": "stdout",
     "output_type": "stream",
     "text": [
      "Go to this URL in a browser: https://accounts.google.com/o/oauth2/auth?client_id=947318989803-6bn6qk8qdgf4n4g3pfee6491hc0brc4i.apps.googleusercontent.com&redirect_uri=urn%3Aietf%3Awg%3Aoauth%3A2.0%3Aoob&scope=email%20https%3A%2F%2Fwww.googleapis.com%2Fauth%2Fdocs.test%20https%3A%2F%2Fwww.googleapis.com%2Fauth%2Fdrive%20https%3A%2F%2Fwww.googleapis.com%2Fauth%2Fdrive.photos.readonly%20https%3A%2F%2Fwww.googleapis.com%2Fauth%2Fpeopleapi.readonly&response_type=code\n",
      "\n",
      "Enter your authorization code:\n",
      "··········\n",
      "Mounted at /content/drive\n"
     ]
    }
   ],
   "source": [
    "#Loading the data from google drive \n",
    "from google.colab import drive\n",
    "drive.mount('/content/drive')\n",
    "!tar xf ./drive/My\\ Drive/dataset.tar -C ./\n",
    "\n",
    "!cp -i ./drive/My\\ Drive/PatternRecognition/cifar_loading.py ./\n",
    "!cp -i ./drive/My\\ Drive/PatternRecognition/data_batch_1 ./"
   ]
  },
  {
   "cell_type": "code",
   "execution_count": 0,
   "metadata": {
    "colab": {},
    "colab_type": "code",
    "id": "NwISLxv8G9sQ"
   },
   "outputs": [],
   "source": [
    "path = \"./orl_faces/\"\n",
    "# your images in an array\n",
    "imgs = loadImages(path)"
   ]
  },
  {
   "cell_type": "markdown",
   "metadata": {
    "colab_type": "text",
    "id": "ZGjfYYbpG9sZ"
   },
   "source": [
    "### Extra Step Here : Generate Non Faces Matrix "
   ]
  },
  {
   "cell_type": "code",
   "execution_count": 6,
   "metadata": {
    "colab": {
     "base_uri": "https://localhost:8080/",
     "height": 1198
    },
    "colab_type": "code",
    "id": "uJkGfNrzG9sd",
    "outputId": "95213a01-747e-4486-8c46-b5a600d2370c"
   },
   "outputs": [
    {
     "data": {
      "text/plain": [
       "array([[[ 61.217,  44.989,  48.028, ..., 137.038, 130.451, 128.782],\n",
       "        [ 18.804,   0.   ,  10.078, ...,  94.703,  90.002,  94.045],\n",
       "        [ 23.957,   8.893,  31.412, ...,  90.29 ,  90.888,  80.23 ],\n",
       "        ...,\n",
       "        [172.926, 153.786, 156.673, ..., 133.891,  35.739,  38.085],\n",
       "        [146.357, 128.716, 143.562, ..., 152.608,  69.273,  59.804],\n",
       "        [150.675, 136.671, 146.793, ..., 188.552, 123.991,  98.989]],\n",
       "\n",
       "       [[171.263, 133.597, 103.273, ...,  91.068,  86.937,  79.148],\n",
       "        [155.046, 150.722, 124.202, ...,  95.709,  77.051,  71.034],\n",
       "        [151.541, 144.249, 114.658, ...,  79.051,  67.692,  66.806],\n",
       "        ...,\n",
       "        [169.278, 155.282, 159.346, ...,  36.62 ,  55.848,  86.902],\n",
       "        [154.325, 150.688, 158.236, ...,  96.332, 117.375, 125.13 ],\n",
       "        [149.293, 148.026, 155.471, ..., 136.674, 137.603, 137.244]],\n",
       "\n",
       "       [[255.   , 253.   , 253.   , ..., 253.   , 253.   , 253.   ],\n",
       "        [255.   , 255.   , 255.   , ..., 255.   , 255.   , 255.   ],\n",
       "        [255.   , 254.   , 254.   , ..., 254.   , 254.   , 254.   ],\n",
       "        ...,\n",
       "        [116.995, 115.109, 109.223, ...,  78.195,  77.494,  77.494],\n",
       "        [114.995, 108.109, 102.995, ...,  72.679,  74.092,  81.978],\n",
       "        [109.995, 102.995,  98.995, ...,  82.679,  82.978,  83.978]],\n",
       "\n",
       "       ...,\n",
       "\n",
       "       [[ 71.444,  62.433,  77.231, ..., 251.228, 255.   , 191.017],\n",
       "        [ 90.031,  82.775,  71.046, ..., 248.712, 254.299, 179.746],\n",
       "        [ 74.33 ,  71.53 ,  71.573, ..., 245.641, 254.   , 193.034],\n",
       "        ...,\n",
       "        [ 84.587,  80.701,  80.   , ...,  42.972,  55.456,  61.815],\n",
       "        [ 66.413,  64.299,  61.299, ...,  63.228,  66.712,  69.957],\n",
       "        [ 48.167,  48.754,  47.167, ...,  74.523,  76.708,  78.067]],\n",
       "\n",
       "       [[253.505, 253.413, 219.657, ..., 192.679, 255.   , 254.413],\n",
       "        [253.505, 254.413, 221.07 , ..., 194.967, 255.   , 254.413],\n",
       "        [253.505, 254.413, 221.657, ..., 193.956, 255.   , 254.413],\n",
       "        ...,\n",
       "        [254.413, 254.114, 220.369, ..., 211.456, 255.   , 254.299],\n",
       "        [254.413, 252.701, 222.266, ..., 213.641, 255.   , 254.299],\n",
       "        [254.413, 253.   , 219.989, ..., 212.94 , 255.   , 254.299]],\n",
       "\n",
       "       [[ 51.621,  51.322,  50.909, ...,  54.322,  71.735,  51.849],\n",
       "        [ 52.208,  50.273,  47.099, ...,  66.718, 104.305,  53.963],\n",
       "        [ 56.376,  62.908,  96.5  , ...,  90.516, 109.174,  53.077],\n",
       "        ...,\n",
       "        [175.093, 173.093, 173.093, ..., 157.499, 173.065, 173.37 ],\n",
       "        [177.68 , 175.093, 176.093, ..., 175.147, 175.908, 175.794],\n",
       "        [183.566, 180.979, 181.093, ..., 180.979, 180.979, 181.093]]])"
      ]
     },
     "execution_count": 6,
     "metadata": {
      "tags": []
     },
     "output_type": "execute_result"
    },
    {
     "data": {
      "image/png": "[encoded data removed]",
      "text/plain": [
       "<Figure size 576x396 with 1 Axes>"
      ]
     },
     "metadata": {
      "tags": []
     },
     "output_type": "display_data"
    }
   ],
   "source": [
    "from cifar_loading import *\n",
    "import matplotlib.pyplot as plt\n",
    "nonFaceTrainData,nonFaceTrainLabel = load_CIFAR_batch('./data_batch_1')\n",
    "nonFaceTrainData\n",
    "nonFaceTrainData = np.apply_along_axis(weightedAverage, 3, nonFaceTrainData)\n",
    "plt.gray()\n",
    "\n",
    "plt.imshow(nonFaceTrainData[0]);\n",
    "nonFaceTrainData\n"
   ]
  },
  {
   "cell_type": "markdown",
   "metadata": {
    "colab_type": "text",
    "id": "d3_xQeO1G9sr"
   },
   "source": [
    "### Step 2: Generate the Data Matrix and the Label vector "
   ]
  },
  {
   "cell_type": "code",
   "execution_count": 7,
   "metadata": {
    "colab": {
     "base_uri": "https://localhost:8080/",
     "height": 364
    },
    "colab_type": "code",
    "id": "R5EtqiZxBsfp",
    "outputId": "0608919d-f762-4d6a-8ca7-68471516a525"
   },
   "outputs": [
    {
     "data": {
      "text/plain": [
       "(32, 32)"
      ]
     },
     "execution_count": 7,
     "metadata": {
      "tags": []
     },
     "output_type": "execute_result"
    },
    {
     "data": {
      "image/png": "[encoded data removed]",
      "text/plain": [
       "<Figure size 576x396 with 1 Axes>"
      ]
     },
     "metadata": {
      "tags": []
     },
     "output_type": "display_data"
    }
   ],
   "source": [
    "plt.imshow(nonFaceTrainData[0][:][:]);\n",
    "nonFaceTrainData[0].shape"
   ]
  },
  {
   "cell_type": "code",
   "execution_count": 0,
   "metadata": {
    "colab": {},
    "colab_type": "code",
    "id": "bAwqhYOO0R0F"
   },
   "outputs": [],
   "source": [
    "import cv2\n",
    "resizedNonFaceData=np.arange(10000*10304).reshape(10000,10304)\n",
    "for i in range(0,10000):\n",
    "  resizedNonFaceData[i] = (cv2.resize(nonFaceTrainData[i], dsize=(112, 92), interpolation=cv2.INTER_CUBIC)).flatten()"
   ]
  },
  {
   "cell_type": "code",
   "execution_count": 0,
   "metadata": {
    "colab": {},
    "colab_type": "code",
    "id": "3ofdGmOiG9st"
   },
   "outputs": [],
   "source": [
    "import numpy as np\n",
    "dataMatrix = np.arange(400*10304).reshape(400,10304)\n",
    "\n",
    "label = []\n",
    "for i in range(0,400) :\n",
    "    dataMatrix[i] = np.array(imgs[i]).flatten()\n",
    "    label.append(1)\n",
    "dataMatrix=np.concatenate((dataMatrix,resizedNonFaceData[0:400,:]))\n",
    "for i in range(400,800) :\n",
    "    label.append(2)\n",
    "\n"
   ]
  },
  {
   "cell_type": "markdown",
   "metadata": {
    "colab_type": "text",
    "id": "fLCaFZcVG9s1"
   },
   "source": [
    "### Step 3: Splitting the dataset into training and test sets"
   ]
  },
  {
   "cell_type": "code",
   "execution_count": 0,
   "metadata": {
    "colab": {},
    "colab_type": "code",
    "id": "hIhsCDWCG9s8"
   },
   "outputs": [],
   "source": [
    "trainSet=np.arange(400*10304).reshape(400,10304)\n",
    "testSet=np.arange(400*10304).reshape(400,10304)\n",
    "trainLabel=[]\n",
    "testLabel=[]\n",
    "j,k=0,0\n",
    "for i in range(0,800):\n",
    "    if(i%2==0):\n",
    "        testSet[j]=dataMatrix[i]\n",
    "        testLabel.append(label[i])\n",
    "        j+=1\n",
    "    else:\n",
    "        trainSet[k]=dataMatrix[i]\n",
    "        trainLabel.append(label[i])\n",
    "        k+=1"
   ]
  },
  {
   "cell_type": "markdown",
   "metadata": {
    "colab_type": "text",
    "id": "vqiQskHgG9tH"
   },
   "source": [
    "### Step 4: Classification using PCA"
   ]
  },
  {
   "cell_type": "code",
   "execution_count": 0,
   "metadata": {
    "colab": {},
    "colab_type": "code",
    "id": "ieuwpqhqG9tK"
   },
   "outputs": [],
   "source": [
    "#calculate mean face of the training set.\n",
    "trainMean=np.mean(trainSet,axis=0)\n",
    "#subtract the mean face from the training set.\n",
    "centerTrainMatrix=trainSet-trainMean\n",
    "#compute the covariance matrix from obtained centered data matrix.\n",
    "covMatrix=np.cov(centerTrainMatrix, rowvar=False, bias=True)\n"
   ]
  },
  {
   "cell_type": "code",
   "execution_count": 0,
   "metadata": {
    "colab": {},
    "colab_type": "code",
    "id": "0W5McAoTPe8v"
   },
   "outputs": [],
   "source": [
    "#displaying the mean face of the training data set.\n",
    "plt.imshow(trainMean.reshape(112,92), cmap='gray');"
   ]
  },
  {
   "cell_type": "code",
   "execution_count": 0,
   "metadata": {
    "colab": {},
    "colab_type": "code",
    "id": "06-lRtjCPhOG"
   },
   "outputs": [],
   "source": [
    "#compute eigen vectors and values from obtained covariance matrix.\n",
    "eigVal,eigVectMatrix=np.linalg.eigh(covMatrix)\n",
    "#flip both eigen values and vectors in order to be sorted descendingly.\n",
    "eigVal=np.flip(eigVal,axis=0)\n",
    "eigVectMatrix=np.flip(eigVectMatrix,axis=1)"
   ]
  },
  {
   "cell_type": "code",
   "execution_count": 0,
   "metadata": {
    "colab": {},
    "colab_type": "code",
    "id": "652E42LBPjsd"
   },
   "outputs": [],
   "source": [
    "#displaying the largest three eigen vectors as images.\n",
    "eigenFace1 = eigVectMatrix[:,0].reshape(112,92)\n",
    "eigenFace2 = eigVectMatrix[:,1].reshape(112,92)\n",
    "eigenFace3 = eigVectMatrix[:,2].reshape(112,92)\n",
    "plt.imshow(eigenFace1, cmap='gray');\n",
    "plt.figure()\n",
    "plt.imshow(eigenFace2, cmap='gray');\n",
    "plt.figure()\n",
    "plt.imshow(eigenFace3, cmap='gray');"
   ]
  },
  {
   "cell_type": "code",
   "execution_count": 0,
   "metadata": {
    "colab": {},
    "colab_type": "code",
    "id": "FHHUMTNUG9tV"
   },
   "outputs": [],
   "source": [
    "#utility method to compute the dimenison required for the specificed alpha value. \n",
    "def computeDimensionality(eigVal,threshold):\n",
    "    totalDataVariance=np.sum(eigVal)\n",
    "    varianceFraction,numDim,eigValSum=0,1,0\n",
    "    \n",
    "    while(varianceFraction<threshold):\n",
    "        eigValSum+=eigVal[numDim-1]\n",
    "        varianceFraction=eigValSum/totalDataVariance\n",
    "        numDim+=1\n",
    "    return numDim"
   ]
  },
  {
   "cell_type": "code",
   "execution_count": 0,
   "metadata": {
    "colab": {},
    "colab_type": "code",
    "id": "d_v4GWVTG9tg"
   },
   "outputs": [],
   "source": [
    "#Calculating dimension needed for four alpha values ( 0.8 , 0.85 , 0.9 , 0.95)\n",
    "dimAlpha1=computeDimensionality(eigVal,0.8)\n",
    "dimAlpha2=computeDimensionality(eigVal,0.85)\n",
    "dimAlpha3=computeDimensionality(eigVal,0.9)\n",
    "dimAlpha4=computeDimensionality(eigVal,0.95)\n"
   ]
  },
  {
   "cell_type": "code",
   "execution_count": 0,
   "metadata": {
    "colab": {},
    "colab_type": "code",
    "id": "R4zRmRy5G9tl"
   },
   "outputs": [],
   "source": [
    "#Computing the projection matrix, one for each alpha value.\n",
    "projMat1=eigVectMatrix[:,0:dimAlpha1]\n",
    "projMat2=eigVectMatrix[:,0:dimAlpha2]\n",
    "projMat3=eigVectMatrix[:,0:dimAlpha3]\n",
    "projMat4=eigVectMatrix[:,0:dimAlpha4]"
   ]
  },
  {
   "cell_type": "code",
   "execution_count": 0,
   "metadata": {
    "colab": {},
    "colab_type": "code",
    "id": "o-lcaUrlG9tt"
   },
   "outputs": [],
   "source": [
    "#Projecting the tarining data instances on the new basis.\n",
    "reducedDimTrain1= (projMat1.T @ centerTrainMatrix.T)\n",
    "reducedDimTrain2= (projMat2.T @ centerTrainMatrix.T)\n",
    "reducedDimTrain3= (projMat3.T @ centerTrainMatrix.T)\n",
    "reducedDimTrain4= (projMat4.T @ centerTrainMatrix.T)"
   ]
  },
  {
   "cell_type": "code",
   "execution_count": 0,
   "metadata": {
    "colab": {},
    "colab_type": "code",
    "id": "4ZGaRVEVG9t1"
   },
   "outputs": [],
   "source": [
    "#calculate mean face of the test set.\n",
    "testMean = np.mean(testSet,axis=0)\n",
    "#subtract the mean face from the test set to obtain centered data matrix\n",
    "centerTestMatrix = testSet-testMean\n",
    "#Projecting the test data instances on the new basis.\n",
    "reducedDimTest1=projMat1.T @ centerTestMatrix.T\n",
    "reducedDimTest2=projMat2.T @ centerTestMatrix.T\n",
    "reducedDimTest3=projMat3.T @ centerTestMatrix.T\n",
    "reducedDimTest4=projMat4.T @ centerTestMatrix.T"
   ]
  },
  {
   "cell_type": "code",
   "execution_count": 0,
   "metadata": {
    "colab": {},
    "colab_type": "code",
    "id": "WgqSKqjqP2wT"
   },
   "outputs": [],
   "source": [
    "#Reconstruction of a face using PCA eigen vectors ,where alpha = 0.95 \n",
    "reconstrutedfaces = (reducedDimTrain4.T @ projMat4.T ) + trainMean\n",
    "#Comparing the reconstructed face and the original face \n",
    "plt.imshow(reconstrutedfaces[50].reshape(112,92), cmap='gray');\n",
    "plt.figure()\n",
    "plt.imshow(trainSet[50].reshape(112,92), cmap='gray');"
   ]
  },
  {
   "cell_type": "code",
   "execution_count": 0,
   "metadata": {
    "colab": {},
    "colab_type": "code",
    "id": "M1oOVwxXG9uB"
   },
   "outputs": [],
   "source": [
    "#import the KNeighborsClassifier class from sklearn\n",
    "from sklearn.neighbors import KNeighborsClassifier\n",
    "#import metrics model to check the accuracy \n",
    "from sklearn import metrics\n",
    "# utility method to apply the knn classifier and return the score resulted.\n",
    "def knn(trainingSet,trainingLabel,testSet,testLabel,k):\n",
    "    knn = KNeighborsClassifier(n_neighbors=k)\n",
    "    knn.fit(trainingSet,trainLabel)\n",
    "    pred=knn.predict(testSet)\n",
    "    score  = metrics.accuracy_score(testLabel,pred)\n",
    "    return score"
   ]
  },
  {
   "cell_type": "code",
   "execution_count": 0,
   "metadata": {
    "colab": {
     "base_uri": "https://localhost:8080/",
     "height": 34
    },
    "colab_type": "code",
    "id": "dv7wgVKeG9uH",
    "outputId": "8c61abf4-9670-460d-b189-9de73c5abfca"
   },
   "outputs": [
    {
     "data": {
      "text/plain": [
       "0.8475"
      ]
     },
     "execution_count": 106,
     "metadata": {
      "tags": []
     },
     "output_type": "execute_result"
    }
   ],
   "source": [
    "knn(reducedDimTrain1.T,trainLabel,reducedDimTest1.T,testLabel,1)"
   ]
  },
  {
   "cell_type": "code",
   "execution_count": 0,
   "metadata": {
    "colab": {
     "base_uri": "https://localhost:8080/",
     "height": 34
    },
    "colab_type": "code",
    "id": "3FNqJd1UG9uP",
    "outputId": "b1ee05e2-d418-4de3-8657-cb1ca90653ca"
   },
   "outputs": [
    {
     "data": {
      "text/plain": [
       "0.8475"
      ]
     },
     "execution_count": 107,
     "metadata": {
      "tags": []
     },
     "output_type": "execute_result"
    }
   ],
   "source": [
    "knn(reducedDimTrain2.T,trainLabel,reducedDimTest2.T,testLabel,1)"
   ]
  },
  {
   "cell_type": "code",
   "execution_count": 0,
   "metadata": {
    "colab": {
     "base_uri": "https://localhost:8080/",
     "height": 34
    },
    "colab_type": "code",
    "id": "5n_vLtwAG9ud",
    "outputId": "e7ad6f48-3e0a-41c2-fcdd-6d535dafc555"
   },
   "outputs": [
    {
     "data": {
      "text/plain": [
       "0.875"
      ]
     },
     "execution_count": 108,
     "metadata": {
      "tags": []
     },
     "output_type": "execute_result"
    }
   ],
   "source": [
    "knn(reducedDimTrain3.T,trainLabel,reducedDimTest3.T,testLabel,1)"
   ]
  },
  {
   "cell_type": "code",
   "execution_count": 0,
   "metadata": {
    "colab": {
     "base_uri": "https://localhost:8080/",
     "height": 34
    },
    "colab_type": "code",
    "id": "TrXd0AXRG9uq",
    "outputId": "8543ba34-a09f-4555-ce11-0f9ba52d6e95"
   },
   "outputs": [
    {
     "data": {
      "text/plain": [
       "0.875"
      ]
     },
     "execution_count": 109,
     "metadata": {
      "tags": []
     },
     "output_type": "execute_result"
    }
   ],
   "source": [
    "knn(reducedDimTrain4.T,trainLabel,reducedDimTest4.T,testLabel,1)"
   ]
  },
  {
   "cell_type": "code",
   "execution_count": 0,
   "metadata": {
    "colab": {
     "base_uri": "https://localhost:8080/",
     "height": 347
    },
    "colab_type": "code",
    "id": "y4brLKikG9u0",
    "outputId": "3d56d804-4031-4f3f-b374-8c781da69ecb"
   },
   "outputs": [
    {
     "data": {
      "image/png": "[encoded data removed]",
      "text/plain": [
       "<Figure size 576x396 with 1 Axes>"
      ]
     },
     "metadata": {
      "tags": []
     },
     "output_type": "display_data"
    }
   ],
   "source": [
    "import matplotlib.pyplot as plt\n",
    "plt.plot([0.8,0.85,0.9,0.95],[0.655,0.675,0.685,0.705]);"
   ]
  },
  {
   "cell_type": "markdown",
   "metadata": {
    "colab_type": "text",
    "id": "XWqeOwRdG9vC"
   },
   "source": [
    "### Step 5: Classification using LDA"
   ]
  },
  {
   "cell_type": "code",
   "execution_count": 0,
   "metadata": {
    "colab": {},
    "colab_type": "code",
    "id": "yIEjuCM5G9vF"
   },
   "outputs": [],
   "source": [
    "\n",
    "dataClassList=[]\n",
    "dataClassList.append(trainSet[0:200,:])\n",
    "dataClassList.append(trainSet[200:400,:])\n"
   ]
  },
  {
   "cell_type": "code",
   "execution_count": 0,
   "metadata": {
    "colab": {},
    "colab_type": "code",
    "id": "e0TvKWxZG9vT"
   },
   "outputs": [],
   "source": [
    "mean=[]\n",
    "mean.append(np.mean(trainSet[0:200,:],axis=0))\n",
    "mean.append(np.mean(trainSet[200:400,:],axis=0))\n"
   ]
  },
  {
   "cell_type": "code",
   "execution_count": 0,
   "metadata": {
    "colab": {},
    "colab_type": "code",
    "id": "xsTxecEMG9vX"
   },
   "outputs": [],
   "source": [
    "withinClassScatterMatrix = np.zeros((10304,10304))\n",
    "for i in range(0,2):\n",
    "    diffMatrix = (dataClassList[i]-mean[i])\n",
    "    withinClassScatterMatrix += diffMatrix.T @ diffMatrix"
   ]
  },
  {
   "cell_type": "code",
   "execution_count": 0,
   "metadata": {
    "colab": {},
    "colab_type": "code",
    "id": "sxwsefwaG9vj"
   },
   "outputs": [],
   "source": [
    "betweenClassScatterMatrix = np.zeros((10304,10304))\n",
    "betweenClassScatterMatrix=np.outer(mean[0]-mean[1],mean[0]-mean[1])"
   ]
  },
  {
   "cell_type": "code",
   "execution_count": 0,
   "metadata": {
    "colab": {},
    "colab_type": "code",
    "id": "Jizqm5IzG9vt"
   },
   "outputs": [],
   "source": [
    "withinClassScatterMatrixInv = np.linalg.pinv(withinClassScatterMatrix)"
   ]
  },
  {
   "cell_type": "markdown",
   "metadata": {
    "colab_type": "text",
    "id": "bs6haxS-jDfV"
   },
   "source": [
    "####Approach 1 : Calculating the best linear discriminant using the eigenvalue problem $(S^{-1}B)w=\\lambda w$"
   ]
  },
  {
   "cell_type": "code",
   "execution_count": 0,
   "metadata": {
    "colab": {},
    "colab_type": "code",
    "id": "BJUYHfFiG9vz"
   },
   "outputs": [],
   "source": [
    "sinverse_b = withinClassScatterMatrixInv @ betweenClassScatterMatrix"
   ]
  },
  {
   "cell_type": "code",
   "execution_count": 0,
   "metadata": {
    "colab": {},
    "colab_type": "code",
    "id": "bnc-u7tqG9v3"
   },
   "outputs": [],
   "source": [
    "eigValLDA,eigVectMatrixLDA = np.linalg.eig(sinverse_b)"
   ]
  },
  {
   "cell_type": "code",
   "execution_count": 0,
   "metadata": {
    "colab": {},
    "colab_type": "code",
    "id": "a6Ui904GG9v7"
   },
   "outputs": [],
   "source": [
    "idx = eigValLDA.argmax()\n",
    "linearDiscriminant = np.real(eigVectMatrixLDA[:,idx])"
   ]
  },
  {
   "cell_type": "markdown",
   "metadata": {
    "colab_type": "text",
    "id": "icn98GI8gkYi"
   },
   "source": [
    "####Approach 2 : By using some simple linear algebra it can be found that $w=S^{-1}(\\mu_1-\\mu_2)$ in a 2 class problem"
   ]
  },
  {
   "cell_type": "code",
   "execution_count": 0,
   "metadata": {
    "colab": {},
    "colab_type": "code",
    "id": "VPSUTEcOhiA3"
   },
   "outputs": [],
   "source": [
    "linearDiscriminant=withinClassScatterMatrixInv @ (mean[0]-mean[1])\n",
    "linearDiscriminant=linearDiscriminant/np.linalg.norm(linearDiscriminant)"
   ]
  },
  {
   "cell_type": "markdown",
   "metadata": {
    "colab_type": "text",
    "id": "C7Dp05wLidTx"
   },
   "source": [
    "####Calculating the coordinates of the data in the new dimensions, using knn to classify the test data and outputting the accuracy"
   ]
  },
  {
   "cell_type": "code",
   "execution_count": 0,
   "metadata": {
    "colab": {},
    "colab_type": "code",
    "id": "RBXWG1nenZNG"
   },
   "outputs": [],
   "source": [
    "reducedDimTrainLDA = linearDiscriminant.T @ trainSet.T\n",
    "reducedDimTestLDA = linearDiscriminant.T @ testSet.T"
   ]
  },
  {
   "cell_type": "code",
   "execution_count": 25,
   "metadata": {
    "colab": {
     "base_uri": "https://localhost:8080/",
     "height": 34
    },
    "colab_type": "code",
    "id": "gwj0dSUHG9wF",
    "outputId": "c96f8df8-7b87-4391-84fc-5b2ebfe97948"
   },
   "outputs": [
    {
     "data": {
      "text/plain": [
       "0.5375"
      ]
     },
     "execution_count": 25,
     "metadata": {
      "tags": []
     },
     "output_type": "execute_result"
    }
   ],
   "source": [
    "knn(reducedDimTrainLDA.reshape(-1, 1),trainLabel,reducedDimTestLDA.reshape(-1, 1),testLabel,1)"
   ]
  },
  {
   "cell_type": "markdown",
   "metadata": {
    "colab_type": "text",
    "id": "rJ8GOx7zG9wN"
   },
   "source": [
    "### Step 6: Classifier Tuning "
   ]
  },
  {
   "cell_type": "code",
   "execution_count": 0,
   "metadata": {
    "colab": {},
    "colab_type": "code",
    "id": "B64jtf0xG9wO"
   },
   "outputs": [],
   "source": [
    "LDAscoreList = []\n",
    "for k in range(1,8,2):\n",
    "    LDAscoreList.append(knn(reducedDimTrainLDA.T,trainLabel,reducedDimTestLDA.T,testLabel,k))"
   ]
  },
  {
   "cell_type": "code",
   "execution_count": 0,
   "metadata": {
    "colab": {},
    "colab_type": "code",
    "id": "egGrUCQyG9wS",
    "outputId": "ea67ea9d-e29f-4baf-a5c6-e46d0a93b97a"
   },
   "outputs": [
    {
     "data": {
      "image/png": "[encoded data removed]",
      "text/plain": [
       "<Figure size 432x288 with 1 Axes>"
      ]
     },
     "metadata": {
      "needs_background": "light",
      "tags": []
     },
     "output_type": "display_data"
    }
   ],
   "source": [
    "plt.plot([1,3,5,7],LDAscoreList);"
   ]
  },
  {
   "cell_type": "code",
   "execution_count": 0,
   "metadata": {
    "colab": {},
    "colab_type": "code",
    "id": "u7YVjo55G9wY"
   },
   "outputs": [],
   "source": [
    "PCAscoreList = []\n",
    "for k in range(1,8,2):\n",
    "    PCAscoreList.append(knn(reducedDimTrain4.T,trainLabel,reducedDimTest4.T,testLabel,k))"
   ]
  },
  {
   "cell_type": "code",
   "execution_count": 0,
   "metadata": {
    "colab": {},
    "colab_type": "code",
    "id": "cR4jjC_XG9wf",
    "outputId": "136ae81f-2be6-4c44-8db4-69f1ec72b41e"
   },
   "outputs": [
    {
     "data": {
      "image/png": "[encoded data removed]",
      "text/plain": [
       "<Figure size 432x288 with 1 Axes>"
      ]
     },
     "metadata": {
      "needs_background": "light",
      "tags": []
     },
     "output_type": "display_data"
    }
   ],
   "source": [
    "plt.plot([1,3,5,7],PCAscoreList);"
   ]
  },
  {
   "cell_type": "code",
   "execution_count": 0,
   "metadata": {
    "colab": {},
    "colab_type": "code",
    "id": "cy7IW4z4G9wl"
   },
   "outputs": [],
   "source": []
  }
 ],
 "metadata": {
  "colab": {
   "collapsed_sections": [],
   "name": "Copy of Faces vs No Faces Classification.ipynb",
   "provenance": [],
   "version": "0.3.2"
  },
  "kernelspec": {
   "display_name": "Python 3",
   "language": "python",
   "name": "python3"
  },
  "language_info": {
   "codemirror_mode": {
    "name": "ipython",
    "version": 3
   },
   "file_extension": ".py",
   "mimetype": "text/x-python",
   "name": "python",
   "nbconvert_exporter": "python",
   "pygments_lexer": "ipython3",
   "version": "3.7.1"
  }
 },
 "nbformat": 4,
 "nbformat_minor": 1
}
