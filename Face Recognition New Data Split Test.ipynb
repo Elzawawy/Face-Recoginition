{
 "cells": [
  {
   "cell_type": "markdown",
   "metadata": {},
   "source": [
    "# Face Recognition Assignment #1"
   ]
  },
  {
   "cell_type": "markdown",
   "metadata": {},
   "source": [
    "## Problem Statement "
   ]
  },
  {
   "cell_type": "markdown",
   "metadata": {},
   "source": [
    "We intend to perform face recognition. Face recognition means that for a given image\n",
    "you can tell the subject id. Our database of subject is very simple. It has 40 subjects.\n",
    "Below we will show the needed steps to achieve the goal of the assignment."
   ]
  },
  {
   "cell_type": "markdown",
   "metadata": {},
   "source": [
    "### Step 1: Download the dataset and understand the format "
   ]
  },
  {
   "cell_type": "code",
   "execution_count": 2,
   "metadata": {},
   "outputs": [],
   "source": [
    "from os import listdir\n",
    "from PIL import Image as PImage\n",
    "\n",
    "def loadImages(path):\n",
    "    # return array of images\n",
    "    foldersList = listdir(path)\n",
    "    loadedImages = []\n",
    "    for folder in foldersList :\n",
    "        imagesList = listdir(path+folder)\n",
    "        for image in imagesList:\n",
    "            img = PImage.open(path +folder+'/'+ image)\n",
    "            loadedImages.append(img)\n",
    "    return loadedImages"
   ]
  },
  {
   "cell_type": "code",
   "execution_count": 3,
   "metadata": {},
   "outputs": [],
   "source": [
    "path = \"./orl_faces/\"\n",
    "# your images in an array\n",
    "imgs = loadImages(path)"
   ]
  },
  {
   "cell_type": "markdown",
   "metadata": {},
   "source": [
    "### Step 2: Generate the Data Matrix and the Label vector "
   ]
  },
  {
   "cell_type": "code",
   "execution_count": 4,
   "metadata": {},
   "outputs": [],
   "source": [
    "import numpy as np\n",
    "dataMatrix = np.arange(4121600).reshape(400,10304)\n",
    "j=0\n",
    "label = []\n",
    "for i in range(0,400) :\n",
    "    if(i%10 == 0):\n",
    "        j = j+1\n",
    "    dataMatrix[i] = np.array(imgs[i]).flatten()\n",
    "    label.append(j)"
   ]
  },
  {
   "cell_type": "markdown",
   "metadata": {},
   "source": [
    "### Step 3: Splitting the dataset into training and test sets"
   ]
  },
  {
   "cell_type": "code",
   "execution_count": 6,
   "metadata": {},
   "outputs": [],
   "source": [
    "trainSet=np.arange(2885120).reshape(280,10304)\n",
    "testSet=np.arange(1236480).reshape(120,10304)\n",
    "trainLabel= np.arange(280).reshape(280,1)\n",
    "testLabel= np.arange(120).reshape(120,1)\n",
    "\n",
    "j,k=7,3\n",
    "classLabel=1\n",
    "for i in range(0,401,10):\n",
    "    if( i != 0 ):\n",
    "        trainSet[j-7:j,:]=dataMatrix[i-10:i-3,:]\n",
    "        testSet[k-3:k,:]=dataMatrix[i-3:i,:]\n",
    "        trainLabel[j-7:j]= np.full((7,1), classLabel, dtype=int)\n",
    "        testLabel[k-3:k]= np.full((3,1), classLabel, dtype=int)\n",
    "        classLabel+=1\n",
    "        j+=7\n",
    "        k+=3"
   ]
  },
  {
   "cell_type": "markdown",
   "metadata": {},
   "source": [
    "### Step 4: Classification using PCA"
   ]
  },
  {
   "cell_type": "code",
   "execution_count": 9,
   "metadata": {},
   "outputs": [],
   "source": [
    "dataMean=np.mean(trainSet,axis=0)\n",
    "centerDataMatrix=trainSet-dataMean\n",
    "covMatrix=(1/200)*(centerDataMatrix.T @ centerDataMatrix)\n",
    "eigVal,eigVectMatrix=np.linalg.eigh(covMatrix)\n",
    "eigVal=np.flip(eigVal,axis=0)\n",
    "eigVectMatrix=np.flip(eigVectMatrix,axis=0)\n"
   ]
  },
  {
   "cell_type": "code",
   "execution_count": 10,
   "metadata": {},
   "outputs": [],
   "source": [
    "def computeDimensionality(eigVal,threshold):\n",
    "    totalDataVariance=np.sum(eigVal)\n",
    "    varianceFraction,numDim,eigValSum=0,1,0\n",
    "    \n",
    "    while(varianceFraction<threshold):\n",
    "        eigValSum+=eigVal[numDim-1]\n",
    "        varianceFraction=eigValSum/totalDataVariance\n",
    "        numDim+=1\n",
    "    return numDim"
   ]
  },
  {
   "cell_type": "code",
   "execution_count": 11,
   "metadata": {},
   "outputs": [],
   "source": [
    "dimAlpha1=computeDimensionality(eigVal,0.8)\n",
    "dimAlpha2=computeDimensionality(eigVal,0.85)\n",
    "dimAlpha3=computeDimensionality(eigVal,0.9)\n",
    "dimAlpha4=computeDimensionality(eigVal,0.95)\n"
   ]
  },
  {
   "cell_type": "code",
   "execution_count": 12,
   "metadata": {},
   "outputs": [],
   "source": [
    "projMat1=eigVectMatrix[:,0:dimAlpha1]\n",
    "projMat2=eigVectMatrix[:,0:dimAlpha2]\n",
    "projMat3=eigVectMatrix[:,0:dimAlpha3]\n",
    "projMat4=eigVectMatrix[:,0:dimAlpha4]\n"
   ]
  },
  {
   "cell_type": "code",
   "execution_count": 13,
   "metadata": {},
   "outputs": [],
   "source": [
    "reducedDimTrain1=projMat1.T @ trainSet.T\n",
    "reducedDimTrain2=projMat2.T @ trainSet.T\n",
    "reducedDimTrain3=projMat3.T @ trainSet.T\n",
    "reducedDimTrain4=projMat4.T @ trainSet.T\n"
   ]
  },
  {
   "cell_type": "code",
   "execution_count": 14,
   "metadata": {},
   "outputs": [],
   "source": [
    "reducedDimTest1=projMat1.T @ testSet.T\n",
    "reducedDimTest2=projMat2.T @ testSet.T\n",
    "reducedDimTest3=projMat3.T @ testSet.T\n",
    "reducedDimTest4=projMat4.T @ testSet.T\n"
   ]
  },
  {
   "cell_type": "code",
   "execution_count": 63,
   "metadata": {},
   "outputs": [],
   "source": [
    "#import the KNeighborsClassifier class from sklearn\n",
    "from sklearn.neighbors import KNeighborsClassifier\n",
    "#import metrics model to check the accuracy \n",
    "from sklearn import metrics\n",
    "\n",
    "def knn(trainingSet,trainingLabel,testSet,testLabel,k):\n",
    "    #Try running from k=1 through 25 and record testing accuracy\n",
    "    knn = KNeighborsClassifier(n_neighbors=k)\n",
    "    knn.fit(trainingSet,trainLabel)\n",
    "    pred=knn.predict(testSet)\n",
    "    score  = metrics.accuracy_score(testLabel,pred)\n",
    "    return score"
   ]
  },
  {
   "cell_type": "code",
   "execution_count": 16,
   "metadata": {},
   "outputs": [
    {
     "data": {
      "text/plain": [
       "0.655"
      ]
     },
     "execution_count": 16,
     "metadata": {},
     "output_type": "execute_result"
    }
   ],
   "source": [
    "knn(reducedDimTrain1.T,trainLabel,reducedDimTest1.T,testLabel,1)"
   ]
  },
  {
   "cell_type": "code",
   "execution_count": 17,
   "metadata": {},
   "outputs": [
    {
     "data": {
      "text/plain": [
       "0.675"
      ]
     },
     "execution_count": 17,
     "metadata": {},
     "output_type": "execute_result"
    }
   ],
   "source": [
    "knn(reducedDimTrain2.T,trainLabel,reducedDimTest2.T,testLabel,1)"
   ]
  },
  {
   "cell_type": "code",
   "execution_count": 18,
   "metadata": {},
   "outputs": [
    {
     "data": {
      "text/plain": [
       "0.685"
      ]
     },
     "execution_count": 18,
     "metadata": {},
     "output_type": "execute_result"
    }
   ],
   "source": [
    "knn(reducedDimTrain3.T,trainLabel,reducedDimTest3.T,testLabel,1)"
   ]
  },
  {
   "cell_type": "code",
   "execution_count": 19,
   "metadata": {},
   "outputs": [
    {
     "data": {
      "text/plain": [
       "0.705"
      ]
     },
     "execution_count": 19,
     "metadata": {},
     "output_type": "execute_result"
    }
   ],
   "source": [
    "knn(reducedDimTrain4.T,trainLabel,reducedDimTest4.T,testLabel,1)"
   ]
  },
  {
   "cell_type": "code",
   "execution_count": 104,
   "metadata": {},
   "outputs": [
    {
     "data": {
      "image/png": "[encoded data removed]",
      "text/plain": [
       "<Figure size 432x288 with 1 Axes>"
      ]
     },
     "metadata": {
      "needs_background": "light"
     },
     "output_type": "display_data"
    }
   ],
   "source": [
    "import matplotlib.pyplot as plt\n",
    "plt.plot([0.8,0.85,0.9,0.95],[0.655,0.675,0.685,0.705]);"
   ]
  },
  {
   "cell_type": "markdown",
   "metadata": {},
   "source": [
    "### Step 5: Classification using LDA"
   ]
  },
  {
   "cell_type": "code",
   "execution_count": 23,
   "metadata": {},
   "outputs": [],
   "source": [
    "dataClassList=[]\n",
    "for i in range(0,201):\n",
    "    if(i%5==0 and i!=0):\n",
    "        dataClassList.append(trainSet[i-5:i,:])"
   ]
  },
  {
   "cell_type": "code",
   "execution_count": 26,
   "metadata": {},
   "outputs": [],
   "source": [
    "mean=np.mean(dataClassList,axis=1)"
   ]
  },
  {
   "cell_type": "code",
   "execution_count": 27,
   "metadata": {},
   "outputs": [],
   "source": [
    "withinClassScatterMatrix = np.zeros((10304,10304))\n",
    "for i in range(0,40):\n",
    "    diffMatrix = (dataClassList[i]-mean[i])\n",
    "    withinClassScatterMatrix += diffMatrix.T @ diffMatrix"
   ]
  },
  {
   "cell_type": "code",
   "execution_count": 28,
   "metadata": {},
   "outputs": [],
   "source": [
    "overallSampleMean = 1/40* np.sum(mean, axis =0)"
   ]
  },
  {
   "cell_type": "code",
   "execution_count": 29,
   "metadata": {},
   "outputs": [],
   "source": [
    "betweenClassScatterMatrix = np.zeros((10304,10304))\n",
    "for i in range(0,40):\n",
    "    diffVector = (mean[i]- overallSampleMean)\n",
    "    betweenClassScatterMatrix  += np.outer(diffVector,diffVector) "
   ]
  },
  {
   "cell_type": "code",
   "execution_count": 30,
   "metadata": {},
   "outputs": [],
   "source": [
    "withinClassScatterMatrixInv = np.linalg.pinv(withinClassScatterMatrix)"
   ]
  },
  {
   "cell_type": "code",
   "execution_count": 31,
   "metadata": {},
   "outputs": [],
   "source": [
    "sinverse_b = withinClassScatterMatrixInv @ betweenClassScatterMatrix"
   ]
  },
  {
   "cell_type": "code",
   "execution_count": 32,
   "metadata": {},
   "outputs": [],
   "source": [
    "eigValLDA,eigVectMatrixLDA = np.linalg.eig(sinverse_b)"
   ]
  },
  {
   "cell_type": "code",
   "execution_count": 35,
   "metadata": {},
   "outputs": [],
   "source": [
    "idx = eigValLDA.argsort()[-39:][::-1]\n",
    "sortedEigVectMatrixLDA = np.real(eigVectMatrixLDA[:,idx])"
   ]
  },
  {
   "cell_type": "code",
   "execution_count": 36,
   "metadata": {},
   "outputs": [],
   "source": [
    "reducedDimTrainLDA = sortedEigVectMatrixLDA.T @ trainSet.T\n",
    "reducedDimTestLDA = sortedEigVectMatrixLDA.T @ testSet.T"
   ]
  },
  {
   "cell_type": "code",
   "execution_count": 74,
   "metadata": {},
   "outputs": [
    {
     "data": {
      "text/plain": [
       "0.54"
      ]
     },
     "execution_count": 74,
     "metadata": {},
     "output_type": "execute_result"
    }
   ],
   "source": [
    "knn(reducedDimTrainLDA.T,trainLabel,reducedDimTestLDA.T,testLabel,1)"
   ]
  },
  {
   "cell_type": "markdown",
   "metadata": {},
   "source": [
    "### Step 6: Classifier Tuning "
   ]
  },
  {
   "cell_type": "code",
   "execution_count": 94,
   "metadata": {},
   "outputs": [],
   "source": [
    "LDAscoreList = []\n",
    "for k in range(1,8,2):\n",
    "    LDAscoreList.append(knn(reducedDimTrainLDA.T,trainLabel,reducedDimTestLDA.T,testLabel,k))"
   ]
  },
  {
   "cell_type": "code",
   "execution_count": 102,
   "metadata": {},
   "outputs": [
    {
     "data": {
      "image/png": "[encoded data removed]",
      "text/plain": [
       "<Figure size 432x288 with 1 Axes>"
      ]
     },
     "metadata": {
      "needs_background": "light"
     },
     "output_type": "display_data"
    }
   ],
   "source": [
    "plt.plot([1,3,5,7],LDAscoreList);"
   ]
  },
  {
   "cell_type": "code",
   "execution_count": 97,
   "metadata": {},
   "outputs": [],
   "source": [
    "PCAscoreList = []\n",
    "for k in range(1,8,2):\n",
    "    PCAscoreList.append(knn(reducedDimTrain4.T,trainLabel,reducedDimTest4.T,testLabel,k))"
   ]
  },
  {
   "cell_type": "code",
   "execution_count": 101,
   "metadata": {},
   "outputs": [
    {
     "data": {
      "image/png": "[encoded data removed]",
      "text/plain": [
       "<Figure size 432x288 with 1 Axes>"
      ]
     },
     "metadata": {
      "needs_background": "light"
     },
     "output_type": "display_data"
    }
   ],
   "source": [
    "plt.plot([1,3,5,7],PCAscoreList);"
   ]
  },
  {
   "cell_type": "code",
   "execution_count": null,
   "metadata": {},
   "outputs": [],
   "source": []
  }
 ],
 "metadata": {
  "kernelspec": {
   "display_name": "Python 3",
   "language": "python",
   "name": "python3"
  },
  "language_info": {
   "codemirror_mode": {
    "name": "ipython",
    "version": 3
   },
   "file_extension": ".py",
   "mimetype": "text/x-python",
   "name": "python",
   "nbconvert_exporter": "python",
   "pygments_lexer": "ipython3",
   "version": "3.7.1"
  }
 },
 "nbformat": 4,
 "nbformat_minor": 2
}
