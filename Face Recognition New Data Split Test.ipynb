{
  "nbformat": 4,
  "nbformat_minor": 0,
  "metadata": {
    "colab": {
      "name": "Copy of Face Recognition New Data Split Test.ipynb",
      "version": "0.3.2",
      "provenance": [],
      "collapsed_sections": [
        "apOCaBJvmyUu"
      ]
    },
    "kernelspec": {
      "name": "python3",
      "display_name": "Python 3"
    },
    "accelerator": "GPU"
  },
  "cells": [
    {
      "metadata": {
        "id": "SP8P1MzVmyQg",
        "colab_type": "text"
      },
      "cell_type": "markdown",
      "source": [
        "# Face Recognition Assignment #1"
      ]
    },
    {
      "metadata": {
        "id": "j6KfJAB8myQo",
        "colab_type": "text"
      },
      "cell_type": "markdown",
      "source": [
        "## Problem Statement "
      ]
    },
    {
      "metadata": {
        "id": "57BN1XbwmyQs",
        "colab_type": "text"
      },
      "cell_type": "markdown",
      "source": [
        "We intend to perform face recognition. Face recognition means that for a given image\n",
        "you can tell the subject id. Our database of subject is very simple. It has 40 subjects.\n",
        "Below we will show the needed steps to achieve the goal of the assignment."
      ]
    },
    {
      "metadata": {
        "id": "SIvBlowFmyQz",
        "colab_type": "text"
      },
      "cell_type": "markdown",
      "source": [
        "### Step 1: Download the dataset and understand the format "
      ]
    },
    {
      "metadata": {
        "id": "f0KC25zMmyQ2",
        "colab_type": "code",
        "colab": {}
      },
      "cell_type": "code",
      "source": [
        "from os import listdir\n",
        "from PIL import Image as PImage\n",
        "\n",
        "def loadImages(path):\n",
        "    # return array of images\n",
        "    foldersList = listdir(path)\n",
        "    loadedImages = []\n",
        "    for folder in foldersList :\n",
        "        imagesList = listdir(path+'/'+folder)\n",
        "        for image in imagesList:\n",
        "            img = PImage.open(path +'/'+folder+'/'+ image)\n",
        "            loadedImages.append(img)\n",
        "    return loadedImages"
      ],
      "execution_count": 0,
      "outputs": []
    },
    {
      "metadata": {
        "id": "LaRV9xxe_XXg",
        "colab_type": "code",
        "outputId": "1a07861b-1205-44ff-bdf8-de4c86bfb9c8",
        "colab": {
          "base_uri": "https://localhost:8080/",
          "height": 124
        }
      },
      "cell_type": "code",
      "source": [
        "#Loading the data from google drive \n",
        "\n",
        "from google.colab import drive\n",
        "drive.mount('/content/drive')\n",
        "!tar xf ./drive/My\\ Drive/dataset.tar -C ./"
      ],
      "execution_count": 0,
      "outputs": [
        {
          "output_type": "stream",
          "text": [
            "Go to this URL in a browser: https://accounts.google.com/o/oauth2/auth?client_id=947318989803-6bn6qk8qdgf4n4g3pfee6491hc0brc4i.apps.googleusercontent.com&redirect_uri=urn%3Aietf%3Awg%3Aoauth%3A2.0%3Aoob&scope=email%20https%3A%2F%2Fwww.googleapis.com%2Fauth%2Fdocs.test%20https%3A%2F%2Fwww.googleapis.com%2Fauth%2Fdrive%20https%3A%2F%2Fwww.googleapis.com%2Fauth%2Fdrive.photos.readonly%20https%3A%2F%2Fwww.googleapis.com%2Fauth%2Fpeopleapi.readonly&response_type=code\n",
            "\n",
            "Enter your authorization code:\n",
            "··········\n",
            "Mounted at /content/drive\n"
          ],
          "name": "stdout"
        }
      ]
    },
    {
      "metadata": {
        "id": "pvusJ1XfmyRB",
        "colab_type": "code",
        "colab": {}
      },
      "cell_type": "code",
      "source": [
        "\n",
        "path = \"./orl_faces\"\n",
        "# your images in an array\n",
        "imgs = loadImages(path)"
      ],
      "execution_count": 0,
      "outputs": []
    },
    {
      "metadata": {
        "id": "vNhCk1sGmyRK",
        "colab_type": "text"
      },
      "cell_type": "markdown",
      "source": [
        "### Step 2: Generate the Data Matrix and the Label vector "
      ]
    },
    {
      "metadata": {
        "id": "EU9TeGj_myRN",
        "colab_type": "code",
        "colab": {}
      },
      "cell_type": "code",
      "source": [
        "import numpy as np\n",
        "dataMatrix = np.arange(4121600).reshape(400,10304)\n",
        "j=0\n",
        "label = []\n",
        "for i in range(0,400) :\n",
        "    if(i%10 == 0):\n",
        "        j = j+1\n",
        "    dataMatrix[i] = np.array(imgs[i]).flatten()\n",
        "    label.append(j)"
      ],
      "execution_count": 0,
      "outputs": []
    },
    {
      "metadata": {
        "id": "d_ybO3qJmyRW",
        "colab_type": "text"
      },
      "cell_type": "markdown",
      "source": [
        "### Step 3: Splitting the dataset into training and test sets"
      ]
    },
    {
      "metadata": {
        "id": "GTrA9nPCmyRZ",
        "colab_type": "code",
        "colab": {}
      },
      "cell_type": "code",
      "source": [
        "trainSet=np.arange(2885120).reshape(280,10304)\n",
        "testSet=np.arange(1236480).reshape(120,10304)\n",
        "trainLabel= np.arange(280).reshape(280,1)\n",
        "testLabel= np.arange(120).reshape(120,1)\n",
        "\n",
        "j,k=7,3\n",
        "classLabel=1\n",
        "for i in range(0,401,10):\n",
        "    if( i != 0 ):\n",
        "        trainSet[j-7:j,:]=dataMatrix[i-10:i-3,:]\n",
        "        testSet[k-3:k,:]=dataMatrix[i-3:i,:]\n",
        "        trainLabel[j-7:j]= np.full((7,1), classLabel, dtype=int)\n",
        "        testLabel[k-3:k]= np.full((3,1), classLabel, dtype=int)\n",
        "        classLabel+=1\n",
        "        j+=7\n",
        "        k+=3"
      ],
      "execution_count": 0,
      "outputs": []
    },
    {
      "metadata": {
        "id": "k2wiiu49myRh",
        "colab_type": "text"
      },
      "cell_type": "markdown",
      "source": [
        "### Step 4: Classification using PCA"
      ]
    },
    {
      "metadata": {
        "id": "3eSl_aXhmyRn",
        "colab_type": "code",
        "colab": {}
      },
      "cell_type": "code",
      "source": [
        "#calculate mean face of the training set.\n",
        "trainMean=np.mean(trainSet,axis=0)\n",
        "#subtract the mean face from the training set.\n",
        "centerTrainMatrix=trainSet-trainMean\n",
        "#compute the covariance matrix from obtained centered data matrix.\n",
        "covMatrix=np.cov(centerTrainMatrix, rowvar=False, bias=True)\n"
      ],
      "execution_count": 0,
      "outputs": []
    },
    {
      "metadata": {
        "id": "l1Y0iIlEMdqe",
        "colab_type": "code",
        "colab": {}
      },
      "cell_type": "code",
      "source": [
        "#displaying the mean face of the training data set.\n",
        "plt.imshow(trainMean.reshape(112,92), cmap='gray');"
      ],
      "execution_count": 0,
      "outputs": []
    },
    {
      "metadata": {
        "id": "ikbs_D8gMinu",
        "colab_type": "code",
        "colab": {}
      },
      "cell_type": "code",
      "source": [
        "#compute eigen vectors and values from obtained covariance matrix.\n",
        "eigVal,eigVectMatrix=np.linalg.eigh(covMatrix)\n",
        "#flip both eigen values and vectors in order to be sorted descendingly.\n",
        "eigVal=np.flip(eigVal,axis=0)\n",
        "eigVectMatrix=np.flip(eigVectMatrix,axis=1)"
      ],
      "execution_count": 0,
      "outputs": []
    },
    {
      "metadata": {
        "id": "aJbCondAMsmy",
        "colab_type": "code",
        "colab": {}
      },
      "cell_type": "code",
      "source": [
        "#displaying the largest three eigen vectors as images.\n",
        "eigenFace1 = eigVectMatrix[:,0].reshape(112,92)\n",
        "eigenFace2 = eigVectMatrix[:,1].reshape(112,92)\n",
        "eigenFace3 = eigVectMatrix[:,2].reshape(112,92)\n",
        "plt.imshow(eigenFace1, cmap='gray');\n",
        "plt.figure()\n",
        "plt.imshow(eigenFace2, cmap='gray');\n",
        "plt.figure()\n",
        "plt.imshow(eigenFace3, cmap='gray');"
      ],
      "execution_count": 0,
      "outputs": []
    },
    {
      "metadata": {
        "id": "C1RvFL8TmyRw",
        "colab_type": "code",
        "colab": {}
      },
      "cell_type": "code",
      "source": [
        "#utility method to compute the dimenison required for the specificed alpha value. \n",
        "def computeDimensionality(eigVal,threshold):\n",
        "    totalDataVariance=np.sum(eigVal)\n",
        "    varianceFraction,numDim,eigValSum=0,1,0\n",
        "    \n",
        "    while(varianceFraction<threshold):\n",
        "        eigValSum+=eigVal[numDim-1]\n",
        "        varianceFraction=eigValSum/totalDataVariance\n",
        "        numDim+=1\n",
        "    return numDim"
      ],
      "execution_count": 0,
      "outputs": []
    },
    {
      "metadata": {
        "id": "ALxNz9lvmyR8",
        "colab_type": "code",
        "colab": {}
      },
      "cell_type": "code",
      "source": [
        "#Calculating dimension needed for four alpha values ( 0.8 , 0.85 , 0.9 , 0.95)\n",
        "dimAlpha1=computeDimensionality(eigVal,0.8)\n",
        "dimAlpha2=computeDimensionality(eigVal,0.85)\n",
        "dimAlpha3=computeDimensionality(eigVal,0.9)\n",
        "dimAlpha4=computeDimensionality(eigVal,0.95)"
      ],
      "execution_count": 0,
      "outputs": []
    },
    {
      "metadata": {
        "id": "Qk-KW7xgmySH",
        "colab_type": "code",
        "colab": {}
      },
      "cell_type": "code",
      "source": [
        "#Computing the projection matrix, one for each alpha value.\n",
        "projMat1=eigVectMatrix[:,0:dimAlpha1]\n",
        "projMat2=eigVectMatrix[:,0:dimAlpha2]\n",
        "projMat3=eigVectMatrix[:,0:dimAlpha3]\n",
        "projMat4=eigVectMatrix[:,0:dimAlpha4]\n"
      ],
      "execution_count": 0,
      "outputs": []
    },
    {
      "metadata": {
        "id": "Uze8GrzEmySP",
        "colab_type": "code",
        "colab": {}
      },
      "cell_type": "code",
      "source": [
        "#Projecting the tarining data instances on the new basis.\n",
        "reducedDimTrain1= (projMat1.T @ centerTrainMatrix.T)\n",
        "reducedDimTrain2= (projMat2.T @ centerTrainMatrix.T)\n",
        "reducedDimTrain3= (projMat3.T @ centerTrainMatrix.T)\n",
        "reducedDimTrain4= (projMat4.T @ centerTrainMatrix.T)\n"
      ],
      "execution_count": 0,
      "outputs": []
    },
    {
      "metadata": {
        "id": "5j2cdvHqmySW",
        "colab_type": "code",
        "colab": {}
      },
      "cell_type": "code",
      "source": [
        "#calculate mean face of the test set.\n",
        "testMean = np.mean(testSet,axis=0)\n",
        "#subtract the mean face from the test set to obtain centered data matrix\n",
        "centerTestMatrix = testSet-testMean\n",
        "#Projecting the test data instances on the new basis.\n",
        "reducedDimTest1=projMat1.T @ centerTestMatrix.T\n",
        "reducedDimTest2=projMat2.T @ centerTestMatrix.T\n",
        "reducedDimTest3=projMat3.T @ centerTestMatrix.T\n",
        "reducedDimTest4=projMat4.T @ centerTestMatrix.T"
      ],
      "execution_count": 0,
      "outputs": []
    },
    {
      "metadata": {
        "id": "4q9v0q3sNFQG",
        "colab_type": "code",
        "colab": {}
      },
      "cell_type": "code",
      "source": [
        "#Reconstruction of a face using PCA eigen vectors ,where alpha = 0.95 \n",
        "reconstrutedfaces = (reducedDimTrain4.T @ projMat4.T ) + trainMean\n",
        "#Comparing the reconstructed face and the original face \n",
        "plt.imshow(reconstrutedfaces[50].reshape(112,92), cmap='gray');\n",
        "plt.figure()\n",
        "plt.imshow(trainSet[50].reshape(112,92), cmap='gray');"
      ],
      "execution_count": 0,
      "outputs": []
    },
    {
      "metadata": {
        "id": "D_uPIfzcmySe",
        "colab_type": "code",
        "colab": {}
      },
      "cell_type": "code",
      "source": [
        "#import the KNeighborsClassifier class from sklearn\n",
        "from sklearn.neighbors import KNeighborsClassifier\n",
        "#import metrics model to check the accuracy \n",
        "from sklearn import metrics\n",
        "# utility method to apply the knn classifier and return the score resulted.\n",
        "def knn(trainingSet,trainingLabel,testSet,testLabel,k):\n",
        "    knn = KNeighborsClassifier(n_neighbors=k)\n",
        "    knn.fit(trainingSet,trainLabel)\n",
        "    pred=knn.predict(testSet)\n",
        "    score  = metrics.accuracy_score(testLabel,pred)\n",
        "    return score"
      ],
      "execution_count": 0,
      "outputs": []
    },
    {
      "metadata": {
        "id": "an86E3uKmySm",
        "colab_type": "code",
        "outputId": "44d8dc49-4de0-4a55-e1cb-353750accc46",
        "colab": {
          "base_uri": "https://localhost:8080/",
          "height": 89
        }
      },
      "cell_type": "code",
      "source": [
        "knn(reducedDimTrain1.T,trainLabel,reducedDimTest1.T,testLabel,1)"
      ],
      "execution_count": 0,
      "outputs": [
        {
          "output_type": "stream",
          "text": [
            "/usr/local/lib/python3.6/dist-packages/ipykernel_launcher.py:8: DataConversionWarning: A column-vector y was passed when a 1d array was expected. Please change the shape of y to (n_samples, ), for example using ravel().\n",
            "  \n"
          ],
          "name": "stderr"
        },
        {
          "output_type": "execute_result",
          "data": {
            "text/plain": [
              "0.6166666666666667"
            ]
          },
          "metadata": {
            "tags": []
          },
          "execution_count": 20
        }
      ]
    },
    {
      "metadata": {
        "id": "OapNEElDmySy",
        "colab_type": "code",
        "outputId": "fad8d50a-7119-4a01-8d2c-856ab09eaeb3",
        "colab": {
          "base_uri": "https://localhost:8080/",
          "height": 89
        }
      },
      "cell_type": "code",
      "source": [
        "knn(reducedDimTrain2.T,trainLabel,reducedDimTest2.T,testLabel,1)"
      ],
      "execution_count": 0,
      "outputs": [
        {
          "output_type": "stream",
          "text": [
            "/usr/local/lib/python3.6/dist-packages/ipykernel_launcher.py:8: DataConversionWarning: A column-vector y was passed when a 1d array was expected. Please change the shape of y to (n_samples, ), for example using ravel().\n",
            "  \n"
          ],
          "name": "stderr"
        },
        {
          "output_type": "execute_result",
          "data": {
            "text/plain": [
              "0.65"
            ]
          },
          "metadata": {
            "tags": []
          },
          "execution_count": 21
        }
      ]
    },
    {
      "metadata": {
        "id": "pYUYYK3mmyS6",
        "colab_type": "code",
        "outputId": "a6a5d53f-2731-49a7-814e-16b3373d792c",
        "colab": {
          "base_uri": "https://localhost:8080/",
          "height": 89
        }
      },
      "cell_type": "code",
      "source": [
        "knn(reducedDimTrain3.T,trainLabel,reducedDimTest3.T,testLabel,1)"
      ],
      "execution_count": 0,
      "outputs": [
        {
          "output_type": "stream",
          "text": [
            "/usr/local/lib/python3.6/dist-packages/ipykernel_launcher.py:8: DataConversionWarning: A column-vector y was passed when a 1d array was expected. Please change the shape of y to (n_samples, ), for example using ravel().\n",
            "  \n"
          ],
          "name": "stderr"
        },
        {
          "output_type": "execute_result",
          "data": {
            "text/plain": [
              "0.6666666666666666"
            ]
          },
          "metadata": {
            "tags": []
          },
          "execution_count": 22
        }
      ]
    },
    {
      "metadata": {
        "id": "ssy5_Ip3myTM",
        "colab_type": "code",
        "outputId": "296d5549-5a3a-4ed4-8ad8-f832397f0dfb",
        "colab": {
          "base_uri": "https://localhost:8080/",
          "height": 89
        }
      },
      "cell_type": "code",
      "source": [
        "knn(reducedDimTrain4.T,trainLabel,reducedDimTest4.T,testLabel,1)"
      ],
      "execution_count": 0,
      "outputs": [
        {
          "output_type": "stream",
          "text": [
            "/usr/local/lib/python3.6/dist-packages/ipykernel_launcher.py:8: DataConversionWarning: A column-vector y was passed when a 1d array was expected. Please change the shape of y to (n_samples, ), for example using ravel().\n",
            "  \n"
          ],
          "name": "stderr"
        },
        {
          "output_type": "execute_result",
          "data": {
            "text/plain": [
              "0.7333333333333333"
            ]
          },
          "metadata": {
            "tags": []
          },
          "execution_count": 23
        }
      ]
    },
    {
      "metadata": {
        "id": "zz94i6t4myTY",
        "colab_type": "code",
        "outputId": "f3fec819-99dc-42d6-9eb6-a75c800374ed",
        "colab": {
          "base_uri": "https://localhost:8080/",
          "height": 347
        }
      },
      "cell_type": "code",
      "source": [
        "import matplotlib.pyplot as plt\n",
        "plt.plot([0.8,0.85,0.9,0.95],[0.655,0.675,0.685,0.705]);"
      ],
      "execution_count": 0,
      "outputs": [
        {
          "output_type": "display_data",
          "data": {
            "image/png": "[encoded data removed]",
            "text/plain": [
              "<Figure size 576x396 with 1 Axes>"
            ]
          },
          "metadata": {
            "tags": []
          }
        }
      ]
    },
    {
      "metadata": {
        "id": "LonxRWvvmyTj",
        "colab_type": "text"
      },
      "cell_type": "markdown",
      "source": [
        "### Step 5: Classification using LDA"
      ]
    },
    {
      "metadata": {
        "id": "xNQN8HgqmyTl",
        "colab_type": "code",
        "colab": {}
      },
      "cell_type": "code",
      "source": [
        "dataClassList=[]\n",
        "for i in range(0,281):\n",
        "    if(i%7==0 and i!=0):\n",
        "        dataClassList.append(trainSet[i-7:i,:])"
      ],
      "execution_count": 0,
      "outputs": []
    },
    {
      "metadata": {
        "id": "LjQxHkafmyTv",
        "colab_type": "code",
        "colab": {}
      },
      "cell_type": "code",
      "source": [
        "mean=np.mean(dataClassList,axis=1)"
      ],
      "execution_count": 0,
      "outputs": []
    },
    {
      "metadata": {
        "id": "tlZo3C0RmyT1",
        "colab_type": "code",
        "colab": {}
      },
      "cell_type": "code",
      "source": [
        "withinClassScatterMatrix = np.zeros((10304,10304))\n",
        "for i in range(0,40):\n",
        "    diffMatrix = (dataClassList[i]-mean[i])\n",
        "    withinClassScatterMatrix += diffMatrix.T @ diffMatrix"
      ],
      "execution_count": 0,
      "outputs": []
    },
    {
      "metadata": {
        "id": "BXLsaE1vmyUB",
        "colab_type": "code",
        "colab": {}
      },
      "cell_type": "code",
      "source": [
        "overallSampleMean = 1/40* np.sum(mean, axis =0)"
      ],
      "execution_count": 0,
      "outputs": []
    },
    {
      "metadata": {
        "id": "EX4yy7DAmyUF",
        "colab_type": "code",
        "colab": {}
      },
      "cell_type": "code",
      "source": [
        "betweenClassScatterMatrix = np.zeros((10304,10304))\n",
        "for i in range(0,40):\n",
        "    diffVector = (mean[i]- overallSampleMean)\n",
        "    betweenClassScatterMatrix  += np.outer(diffVector,diffVector) "
      ],
      "execution_count": 0,
      "outputs": []
    },
    {
      "metadata": {
        "id": "030q2SXVmyUN",
        "colab_type": "code",
        "colab": {}
      },
      "cell_type": "code",
      "source": [
        "withinClassScatterMatrixInv = np.linalg.pinv(withinClassScatterMatrix)"
      ],
      "execution_count": 0,
      "outputs": []
    },
    {
      "metadata": {
        "id": "4-fApVmMmyUW",
        "colab_type": "code",
        "colab": {}
      },
      "cell_type": "code",
      "source": [
        "sinverse_b = withinClassScatterMatrixInv @ betweenClassScatterMatrix"
      ],
      "execution_count": 0,
      "outputs": []
    },
    {
      "metadata": {
        "id": "WcdRh0P7myUd",
        "colab_type": "code",
        "colab": {}
      },
      "cell_type": "code",
      "source": [
        "eigValLDA,eigVectMatrixLDA = np.linalg.eig(sinverse_b)"
      ],
      "execution_count": 0,
      "outputs": []
    },
    {
      "metadata": {
        "id": "1gSvT-s3myUf",
        "colab_type": "code",
        "colab": {}
      },
      "cell_type": "code",
      "source": [
        "idx = eigValLDA.argsort()[-39:][::-1]\n",
        "sortedEigVectMatrixLDA = np.real(eigVectMatrixLDA[:,idx])"
      ],
      "execution_count": 0,
      "outputs": []
    },
    {
      "metadata": {
        "id": "_QwGia4RmyUj",
        "colab_type": "code",
        "colab": {}
      },
      "cell_type": "code",
      "source": [
        "reducedDimTrainLDA = sortedEigVectMatrixLDA.T @ trainSet.T\n",
        "reducedDimTestLDA = sortedEigVectMatrixLDA.T @ testSet.T"
      ],
      "execution_count": 0,
      "outputs": []
    },
    {
      "metadata": {
        "id": "5rV4HCalmyUm",
        "colab_type": "code",
        "outputId": "72eb2f0b-26b5-4147-a29e-c79422506606",
        "colab": {
          "base_uri": "https://localhost:8080/",
          "height": 89
        }
      },
      "cell_type": "code",
      "source": [
        "knn(reducedDimTrainLDA.T,trainLabel,reducedDimTestLDA.T,testLabel,1)"
      ],
      "execution_count": 0,
      "outputs": [
        {
          "output_type": "stream",
          "text": [
            "/usr/local/lib/python3.6/dist-packages/ipykernel_launcher.py:8: DataConversionWarning: A column-vector y was passed when a 1d array was expected. Please change the shape of y to (n_samples, ), for example using ravel().\n",
            "  \n"
          ],
          "name": "stderr"
        },
        {
          "output_type": "execute_result",
          "data": {
            "text/plain": [
              "0.4583333333333333"
            ]
          },
          "metadata": {
            "tags": []
          },
          "execution_count": 44
        }
      ]
    },
    {
      "metadata": {
        "id": "apOCaBJvmyUu",
        "colab_type": "text"
      },
      "cell_type": "markdown",
      "source": [
        "### Step 6: Classifier Tuning "
      ]
    },
    {
      "metadata": {
        "id": "UfgkvSXdmyUv",
        "colab_type": "code",
        "outputId": "3fca9836-1069-41c7-ebe4-45408b1c671c",
        "colab": {
          "base_uri": "https://localhost:8080/",
          "height": 176
        }
      },
      "cell_type": "code",
      "source": [
        "LDAscoreList = []\n",
        "for k in range(1,8,2):\n",
        "    LDAscoreList.append(knn(reducedDimTrainLDA.T,trainLabel,reducedDimTestLDA.T,testLabel,k))"
      ],
      "execution_count": 0,
      "outputs": [
        {
          "output_type": "stream",
          "text": [
            "/usr/local/lib/python3.6/dist-packages/ipykernel_launcher.py:8: DataConversionWarning: A column-vector y was passed when a 1d array was expected. Please change the shape of y to (n_samples, ), for example using ravel().\n",
            "  \n",
            "/usr/local/lib/python3.6/dist-packages/ipykernel_launcher.py:8: DataConversionWarning: A column-vector y was passed when a 1d array was expected. Please change the shape of y to (n_samples, ), for example using ravel().\n",
            "  \n",
            "/usr/local/lib/python3.6/dist-packages/ipykernel_launcher.py:8: DataConversionWarning: A column-vector y was passed when a 1d array was expected. Please change the shape of y to (n_samples, ), for example using ravel().\n",
            "  \n",
            "/usr/local/lib/python3.6/dist-packages/ipykernel_launcher.py:8: DataConversionWarning: A column-vector y was passed when a 1d array was expected. Please change the shape of y to (n_samples, ), for example using ravel().\n",
            "  \n"
          ],
          "name": "stderr"
        }
      ]
    },
    {
      "metadata": {
        "id": "uXO6ENawmyU2",
        "colab_type": "code",
        "outputId": "565a2139-8bb0-4129-a0f2-948522a203da",
        "colab": {
          "base_uri": "https://localhost:8080/",
          "height": 347
        }
      },
      "cell_type": "code",
      "source": [
        "plt.plot([1,3,5,7],LDAscoreList);"
      ],
      "execution_count": 0,
      "outputs": [
        {
          "output_type": "display_data",
          "data": {
            "image/png": "[encoded data removed]",
            "text/plain": [
              "<Figure size 576x396 with 1 Axes>"
            ]
          },
          "metadata": {
            "tags": []
          }
        }
      ]
    },
    {
      "metadata": {
        "id": "wD2cmOmzmyU7",
        "colab_type": "code",
        "outputId": "651a46d5-055c-46ba-8b99-ad94a37a3e83",
        "colab": {
          "base_uri": "https://localhost:8080/",
          "height": 176
        }
      },
      "cell_type": "code",
      "source": [
        "PCAscoreList = []\n",
        "for k in range(1,8,2):\n",
        "    PCAscoreList.append(knn(reducedDimTrain4.T,trainLabel,reducedDimTest4.T,testLabel,k))"
      ],
      "execution_count": 0,
      "outputs": [
        {
          "output_type": "stream",
          "text": [
            "/usr/local/lib/python3.6/dist-packages/ipykernel_launcher.py:8: DataConversionWarning: A column-vector y was passed when a 1d array was expected. Please change the shape of y to (n_samples, ), for example using ravel().\n",
            "  \n",
            "/usr/local/lib/python3.6/dist-packages/ipykernel_launcher.py:8: DataConversionWarning: A column-vector y was passed when a 1d array was expected. Please change the shape of y to (n_samples, ), for example using ravel().\n",
            "  \n",
            "/usr/local/lib/python3.6/dist-packages/ipykernel_launcher.py:8: DataConversionWarning: A column-vector y was passed when a 1d array was expected. Please change the shape of y to (n_samples, ), for example using ravel().\n",
            "  \n",
            "/usr/local/lib/python3.6/dist-packages/ipykernel_launcher.py:8: DataConversionWarning: A column-vector y was passed when a 1d array was expected. Please change the shape of y to (n_samples, ), for example using ravel().\n",
            "  \n"
          ],
          "name": "stderr"
        }
      ]
    },
    {
      "metadata": {
        "id": "VGaKA4FVmyU_",
        "colab_type": "code",
        "outputId": "6a987179-e570-468f-dac4-c743c0034f30",
        "colab": {
          "base_uri": "https://localhost:8080/",
          "height": 349
        }
      },
      "cell_type": "code",
      "source": [
        "plt.plot([1,3,5,7],PCAscoreList);"
      ],
      "execution_count": 0,
      "outputs": [
        {
          "output_type": "display_data",
          "data": {
            "image/png": "[encoded data removed]",
            "text/plain": [
              "<Figure size 576x396 with 1 Axes>"
            ]
          },
          "metadata": {
            "tags": []
          }
        }
      ]
    },
    {
      "metadata": {
        "id": "inQEt7agmyVH",
        "colab_type": "code",
        "colab": {}
      },
      "cell_type": "code",
      "source": [
        ""
      ],
      "execution_count": 0,
      "outputs": []
    }
  ]
}